{
 "cells": [
  {
   "cell_type": "markdown",
   "metadata": {
    "collapsed": false
   },
   "source": [
    "# Classwork 12\n",
    "## Aaron Grisez and Preston Kamada"
   ]
  },
  {
   "cell_type": "code",
   "execution_count": 1,
   "metadata": {
    "collapsed": false
   },
   "outputs": [
    {
     "name": "stderr",
     "output_type": "stream",
     "text": [
      "/projects/sage/sage-7.3/local/lib/python2.7/site-packages/matplotlib-1.5.1-py2.7-linux-x86_64.egg/matplotlib/__init__.py:1350: UserWarning:  This call to matplotlib.use() has no effect\n",
      "because the backend has already been chosen;\n",
      "matplotlib.use() must be called *before* pylab, matplotlib.pyplot,\n",
      "or matplotlib.backends is imported for the first time.\n",
      "\n",
      "  warnings.warn(_use_error_msg)\n"
     ]
    }
   ],
   "source": [
    "import numeric_ode\n",
    "import numpy as np"
   ]
  },
  {
   "cell_type": "code",
   "execution_count": 4,
   "metadata": {
    "collapsed": false
   },
   "outputs": [
    {
     "name": "stdout",
     "output_type": "stream",
     "text": [
      "Help on module numeric_ode:\n",
      "\n",
      "NAME\n",
      "    numeric_ode\n",
      "\n",
      "FILE\n",
      "    /projects/2b551d2a-fe1c-4eb1-b0e1-8be93c0d803e/Repositories/cw-12-aareston/numeric_ode.py\n",
      "\n",
      "FUNCTIONS\n",
      "    cw_12_main_longRun(u_0, a, b, delta_t, force, mass, delta, omega)\n",
      "    \n",
      "    cw_12_main_poincare(u_0, a, n_max, delta_t, force, mass, delta, omega)\n",
      "    \n",
      "    euler_step(u, delta_t, t, du)\n",
      "        Implementation of Euler's method for coupled pair of ODEs for a single step\n",
      "        \n",
      "        Parameters:\n",
      "        -----------\n",
      "            u: array-like\n",
      "                vector of initial conditions\n",
      "            delta_t: float\n",
      "                time step size\n",
      "            t: float\n",
      "                current time\n",
      "            du: lambda\n",
      "                vector-valued function for differential equation\n",
      "        Returns:\n",
      "        --------\n",
      "            tuple of floats\n",
      "                vector of values for the function at the next time step\n",
      "    \n",
      "    heun_step(u, delta_t, t, du)\n",
      "        Implementation of the Heun's Method (Trapezoid) approximation for systems of coupled ODEs\n",
      "        \n",
      "        Parameters:\n",
      "        -----------\n",
      "            u: array-like\n",
      "                vector of initial conditions\n",
      "            delta_t: float\n",
      "                time step size\n",
      "            t: float\n",
      "                current time\n",
      "            du: lambda\n",
      "                vector-valued function for differential equation\n",
      "        Returns:\n",
      "        --------\n",
      "            tuple of floats\n",
      "                vector of values for the function at the next time step\n",
      "    \n",
      "    hw_11_main(u_0, a, b, delta_t, integrator, title)\n",
      "    \n",
      "    init_solutions(n, u_0)\n",
      "        Initializes the solution array\n",
      "        \n",
      "        Parameters:\n",
      "        -----------\n",
      "            n: integer\n",
      "                number of sampling points in mesh\n",
      "            u_0: array of floats\n",
      "                vector of initial conditions, the number of components should equal the number of ODEs in the system\n",
      "        \n",
      "        Returns:\n",
      "        --------\n",
      "            array, first column initialized to initial conditions\n",
      "                this array will be filled with the integrate function with all the values for the solutions\n",
      "    \n",
      "    integrate(u_0, a, b, delta_t, du, integrator)\n",
      "        Parameters:\n",
      "        -----------\n",
      "            u_0: array-like\n",
      "                vector of initial conditions\n",
      "            a: float\n",
      "                intial time point\n",
      "            b: float\n",
      "                final time point\n",
      "            detla_t: float\n",
      "                time interval\n",
      "            du: array-like\n",
      "                vector of lambda functions for differential equations\n",
      "            integrator: string\n",
      "                numerical method for integration\n",
      "            u_1: array-like\n",
      "                vector of second initial condition for use in leapfrog only\n",
      "        \n",
      "        Returns:\n",
      "            u: array-like\n",
      "                array of meshes representing solutions\n",
      "    \n",
      "    leapfrog_step(u, u_k_minus1, delta_t, t, du)\n",
      "        Implementation of the Leapfrog Method approximation for systems of coupled ODEs. IMPORTANT: This method takes 2 initial conditions to solve. The implementation in this module will take only one initial condition and find the second using a single step of Euler's method.\n",
      "        \n",
      "        Parameters:\n",
      "        -----------\n",
      "            u: array-like\n",
      "                vector of initial conditions\n",
      "            u_k_minus1: array-like\n",
      "                vector of second initial condition\n",
      "            delta_t: float\n",
      "                time step size\n",
      "            t: float\n",
      "                current time\n",
      "            du: lambda\n",
      "                vector-valued function for differential equation\n",
      "        Returns:\n",
      "        --------\n",
      "            tuple of floats\n",
      "                vector of values for the function at the next time step\n",
      "    \n",
      "    plot(u, title, actual_solutions, tvals, solvable=True, scatter=False)\n",
      "    \n",
      "    rk2_step(u, delta_t, t, du)\n",
      "        Implementation of the Runge-Kutta 2nd order approximation for systems of coupled ODEs\n",
      "        \n",
      "        Parameters:\n",
      "        -----------\n",
      "            u: array-like\n",
      "                vector of initial conditions\n",
      "            delta_t: float\n",
      "                time step size\n",
      "            t: float\n",
      "                current time\n",
      "            du: lambda\n",
      "                vector-valued function for differential equation\n",
      "        Returns:\n",
      "        --------\n",
      "            tuple of floats\n",
      "                vector of values for the function at the next time step\n",
      "    \n",
      "    rk4_step(u, delta_t, t, du)\n",
      "        Implementation of the Runge-Kutta 4th order approximation for solving a system of coupled ODEs\n",
      "        \n",
      "        Parameters:\n",
      "        -----------\n",
      "            u: array-like\n",
      "                vector of initial conditions\n",
      "            delta_t: float\n",
      "                time step size\n",
      "            t: float\n",
      "                current time\n",
      "            du: lambda\n",
      "                vector-valued function for differential equation\n",
      "        Returns:\n",
      "        --------\n",
      "            tuple of floats\n",
      "                vector of values for the function at the next time step\n",
      "    \n",
      "    test_integrate_euler()\n",
      "    \n",
      "    test_integrate_heun()\n",
      "    \n",
      "    test_integrate_leapfrog()\n",
      "    \n",
      "    test_integrate_rk2()\n",
      "    \n",
      "    test_integrate_rk4()\n",
      "\n",
      "DATA\n",
      "    __warningregistry__ = {('using a non-integer number instead of an inte...\n",
      "\n",
      "\n"
     ]
    }
   ],
   "source": [
    "help(numeric_ode)"
   ]
  },
  {
   "cell_type": "code",
   "execution_count": null,
   "metadata": {
    "collapsed": true
   },
   "outputs": [],
   "source": []
  },
  {
   "cell_type": "code",
   "execution_count": 2,
   "metadata": {
    "collapsed": false
   },
   "outputs": [
    {
     "data": {
      "image/png": "[encoded data removed]",
      "text/plain": [
       "<matplotlib.figure.Figure at 0x7f41e92f4710>"
      ]
     },
     "metadata": {},
     "output_type": "display_data"
    },
    {
     "data": {
      "text/plain": [
       "<matplotlib.figure.Figure at 0x7f41e9236410>"
      ]
     },
     "metadata": {},
     "output_type": "display_data"
    }
   ],
   "source": [
    "numeric_ode.cw_12_main_longRun((-.9,0), 0, 100 * np.pi, 0.001, 0.18, 1, 0.25, 1)"
   ]
  },
  {
   "cell_type": "code",
   "execution_count": 3,
   "metadata": {
    "collapsed": false
   },
   "outputs": [
    {
     "name": "stderr",
     "output_type": "stream",
     "text": [
      "numeric_ode.py:291: VisibleDeprecationWarning: using a non-integer number instead of an integer will result in an error in the future\n",
      "  plot(np.transpose(u_p[current_index]), 'Poincare Section Long Run, F = ' + str(force), actual_solutions, tvals, solvable = False, scatter = True)\n",
      "/projects/sage/sage-7.3/local/lib/python2.7/site-packages/matplotlib-1.5.1-py2.7-linux-x86_64.egg/matplotlib/axes/_axes.py:519: UserWarning: No labelled objects found. Use label='...' kwarg on individual plots.\n",
      "  warnings.warn(\"No labelled objects found. \"\n"
     ]
    },
    {
     "data": {
      "image/png": "[encoded data removed]",
      "text/plain": [
       "<matplotlib.figure.Figure at 0x7f41e92c0b90>"
      ]
     },
     "metadata": {},
     "output_type": "display_data"
    },
    {
     "data": {
      "text/plain": [
       "<matplotlib.figure.Figure at 0x7f41e9049d50>"
      ]
     },
     "metadata": {},
     "output_type": "display_data"
    },
    {
     "data": {
      "text/plain": [
       "<matplotlib.figure.Figure at 0x7f41e9055f10>"
      ]
     },
     "metadata": {},
     "output_type": "display_data"
    },
    {
     "data": {
      "text/plain": [
       "<matplotlib.figure.Figure at 0x7f41e9061f50>"
      ]
     },
     "metadata": {},
     "output_type": "display_data"
    },
    {
     "data": {
      "text/plain": [
       "<matplotlib.figure.Figure at 0x7f41e907c1d0>"
      ]
     },
     "metadata": {},
     "output_type": "display_data"
    },
    {
     "data": {
      "text/plain": [
       "<matplotlib.figure.Figure at 0x7f41e9008290>"
      ]
     },
     "metadata": {},
     "output_type": "display_data"
    },
    {
     "data": {
      "text/plain": [
       "<matplotlib.figure.Figure at 0x7f41e90144d0>"
      ]
     },
     "metadata": {},
     "output_type": "display_data"
    },
    {
     "data": {
      "text/plain": [
       "<matplotlib.figure.Figure at 0x7f41e9021590>"
      ]
     },
     "metadata": {},
     "output_type": "display_data"
    },
    {
     "data": {
      "text/plain": [
       "<matplotlib.figure.Figure at 0x7f41e902d7d0>"
      ]
     },
     "metadata": {},
     "output_type": "display_data"
    },
    {
     "data": {
      "text/plain": [
       "<matplotlib.figure.Figure at 0x7f41e9038890>"
      ]
     },
     "metadata": {},
     "output_type": "display_data"
    },
    {
     "data": {
      "text/plain": [
       "<matplotlib.figure.Figure at 0x7f41e8fc5ad0>"
      ]
     },
     "metadata": {},
     "output_type": "display_data"
    }
   ],
   "source": [
    "numeric_ode.cw_12_main_poincare((-.9,0), 0, 10, 0.001, 0.18, 1, 0.25, 1)"
   ]
  },
  {
   "cell_type": "code",
   "execution_count": 6,
   "metadata": {
    "collapsed": true
   },
   "outputs": [],
   "source": [
    "u_0 = (0,1)\n",
    "a = 0\n",
    "b = 10\n",
    "delta_t = 0.00001\n",
    "mass = 1\n",
    "delta = 0.25\n",
    "force = 0.4\n",
    "omega = 1"
   ]
  },
  {
   "cell_type": "code",
   "execution_count": 7,
   "metadata": {
    "collapsed": false
   },
   "outputs": [
    {
     "name": "stdout",
     "output_type": "stream",
     "text": [
      "CPU times: user 53.2 s, sys: 1.92 s, total: 55.1 s\n",
      "Wall time: 57.2 s\n"
     ]
    }
   ],
   "source": [
    "n = int((b - a) / float(delta_t)) #Number of points in t-mesh\n",
    "tvals = np.linspace(a, b, n)\n",
    "u_prime = lambda u, t: np.array((u[1], 1 / mass * (-delta * u[1] + u[0] - (u[0]) ** 3 + force * np.cos(omega * t))))\n",
    "%time u_p = numeric_ode.integrate(u_0, a, b, delta_t, u_prime, 'rk4')"
   ]
  },
  {
   "cell_type": "code",
   "execution_count": null,
   "metadata": {
    "collapsed": true
   },
   "outputs": [],
   "source": []
  }
 ],
 "metadata": {
  "kernelspec": {
   "display_name": "Python 2 (SageMath)",
   "language": "python",
   "name": "python2"
  },
  "language_info": {
   "codemirror_mode": {
    "name": "ipython",
    "version": 2
   },
   "file_extension": ".py",
   "mimetype": "text/x-python",
   "name": "python",
   "nbconvert_exporter": "python",
   "pygments_lexer": "ipython2",
   "version": "2.7.10"
  }
 },
 "nbformat": 4,
 "nbformat_minor": 0
}
